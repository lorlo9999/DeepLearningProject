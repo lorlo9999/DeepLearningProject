{
 "cells": [
  {
   "cell_type": "code",
   "execution_count": 1,
   "id": "c831d7f4",
   "metadata": {},
   "outputs": [
    {
     "name": "stderr",
     "output_type": "stream",
     "text": [
      "2025-03-07 15:02:31.535502: I external/local_tsl/tsl/cuda/cudart_stub.cc:32] Could not find cuda drivers on your machine, GPU will not be used.\n",
      "2025-03-07 15:02:31.543759: I external/local_tsl/tsl/cuda/cudart_stub.cc:32] Could not find cuda drivers on your machine, GPU will not be used.\n",
      "2025-03-07 15:02:31.645558: I tensorflow/core/platform/cpu_feature_guard.cc:210] This TensorFlow binary is optimized to use available CPU instructions in performance-critical operations.\n",
      "To enable the following instructions: AVX2 FMA, in other operations, rebuild TensorFlow with the appropriate compiler flags.\n",
      "2025-03-07 15:02:33.560457: W tensorflow/compiler/tf2tensorrt/utils/py_utils.cc:38] TF-TRT Warning: Could not find TensorRT\n"
     ]
    }
   ],
   "source": [
    "import numpy as np\n",
    "from astropy.table import Table\n",
    "\n",
    "import warnings\n",
    "warnings.simplefilter('ignore')\n",
    "\n",
    "\n",
    "from tensorflow.keras.models import Sequential\n",
    "from tensorflow.keras.layers import Dense\n",
    "from tensorflow.keras.optimizers import Adam\n",
    "from tensorflow.keras.utils import to_categorical\n",
    "from tensorflow.keras.layers import Dense, Input, Activation"
   ]
  },
  {
   "cell_type": "code",
   "execution_count": 3,
   "id": "b973ea5c",
   "metadata": {},
   "outputs": [
    {
     "name": "stdout",
     "output_type": "stream",
     "text": [
      "6513\n",
      "4559\n"
     ]
    }
   ],
   "source": [
    "import numpy as np\n",
    "from astropy.table import Table\n",
    "\n",
    "def load_and_preprocess_data(filename):\n",
    "    data = Table.read(filename, format='ascii.csv', header_start=0, data_start=1)\n",
    "\n",
    "    #ensure no NaN\n",
    "    valid_sigma_o3_err = (data['sigma_o3_err'] > 0) & np.isfinite(data['sigma_o3_err'])  # valid error values\n",
    "    valid_sigma_o3 = np.isfinite(data['sigma_o3'])  # valid sigma_o3 values\n",
    "    valid_data = valid_sigma_o3 & valid_sigma_o3_err  # only keep valid data points\n",
    "    \n",
    "    #selection criteria\n",
    "    ind1 = np.where(data['o3'] / data['o3_err'] > 3)\n",
    "    ind2 = np.where((data['o21'] + data['o22']) / np.sqrt(data['o21_err']**2 + data['o22_err']**2) > 3)\n",
    "    ind3 = np.where(data['hb'] / data['hb_err'] > 3)\n",
    "    ind4 = np.where(data['ha'] / data['ha_err'] > 3)\n",
    "    ind5 = np.where(data['s21'] / data['s21_err'] > 3)\n",
    "    ind6 = np.where(valid_data & (data['sigma_o3'] / data['sigma_o3_err'] > 3))  # Only include valid data\n",
    "    ind7 = np.where(data['VDISP'] > 0.)\n",
    "    ind8 = np.where(data['mag_u'] > 10.)\n",
    "\n",
    "    # combine all indices\n",
    "    ind = np.array(list(set(ind1[0]) & set(ind2[0]) & set(ind3[0]) & set(ind4[0]) & set(ind5[0]) & set(ind6[0]) & set(ind7[0]) & set(ind8[0])))\n",
    "    \n",
    "    # split sets\n",
    "    n_source = len(ind)\n",
    "    print(n_source)\n",
    "    n_split = int(n_source * 0.7)\n",
    "    ind_train, ind_test = ind[:n_split], ind[n_split:]\n",
    "    print(len(ind_train))\n",
    "\n",
    "    # feature arrays \n",
    "    features_train = {\n",
    "        'O2_index': np.log10((data['o21'][ind_train] + data['o22'][ind_train]) / data['hb'][ind_train]),\n",
    "        'O3_index': np.log10(data['o3'][ind_train] / data['hb'][ind_train]),\n",
    "        'sigma_o3': np.log10(data['sigma_o3'][ind_train]),\n",
    "        'sigma_star': np.log10(data['VDISP'][ind_train]),\n",
    "        'u_g': data['mag_u'][ind_train] - data['mag_g'][ind_train],\n",
    "        'g_r': data['mag_g'][ind_train] - data['mag_r'][ind_train],\n",
    "        'r_i': data['mag_r'][ind_train] - data['mag_i'][ind_train],\n",
    "        'i_z': data['mag_i'][ind_train] - data['mag_z'][ind_train],\n",
    "    }\n",
    "\n",
    "    features_test = {\n",
    "        'O2_index': np.log10((data['o21'][ind_test] + data['o22'][ind_test]) / data['hb'][ind_test]),\n",
    "        'O3_index': np.log10(data['o3'][ind_test] / data['hb'][ind_test]),\n",
    "        'sigma_o3': np.log10(data['sigma_o3'][ind_test]),\n",
    "        'sigma_star': np.log10(data['VDISP'][ind_test]),\n",
    "        'u_g': data['mag_u'][ind_test] - data['mag_g'][ind_test],\n",
    "        'g_r': data['mag_g'][ind_test] - data['mag_r'][ind_test],\n",
    "        'r_i': data['mag_r'][ind_test] - data['mag_i'][ind_test],\n",
    "        'i_z': data['mag_i'][ind_test] - data['mag_z'][ind_test],\n",
    "    }\n",
    "\n",
    "    # assign labels\n",
    "    type_arr_train = np.full(len(ind_train), -999)\n",
    "    type_arr_test = np.full(len(ind_test), -999)\n",
    "\n",
    "    ind_sf = np.where(features_train['O3_index'] <= (0.61 / (features_train['O2_index'] - 0.05) + 1.3))\n",
    "    ind_AGN = np.where(features_train['O3_index'] > (0.61 / (features_train['O2_index'] - 0.47) + 1.19))\n",
    "    ind_liner = np.where(features_train['O3_index'] > (0.61 / (features_train['O2_index'] - 0.47) + 1.19))\n",
    "    ind_comp = np.where((features_train['O3_index'] > (0.61 / (features_train['O2_index'] - 0.05) + 1.3)) & \n",
    "                         (features_train['O3_index'] < (0.61 / (features_train['O2_index'] - 0.47) + 1.19)))\n",
    "\n",
    "    type_arr_train[ind_sf] = 1\n",
    "    type_arr_train[ind_comp] = 2\n",
    "    type_arr_train[ind_AGN] = 3\n",
    "    type_arr_train[ind_liner] = 4\n",
    "\n",
    "    ind_sf_test = np.where(features_test['O3_index'] <= (0.61 / (features_test['O2_index'] - 0.05) + 1.3))\n",
    "    ind_AGN_test = np.where(features_test['O3_index'] > (0.61 / (features_test['O2_index'] - 0.47) + 1.19))\n",
    "    ind_liner_test = np.where(features_test['O3_index'] > (0.61 / (features_test['O2_index'] - 0.47) + 1.19))\n",
    "    ind_comp_test = np.where((features_test['O3_index'] > (0.61 / (features_test['O2_index'] - 0.05) + 1.3)) & \n",
    "                              (features_test['O3_index'] < (0.61 / (features_test['O2_index'] - 0.47) + 1.19)))\n",
    "\n",
    "    type_arr_test[ind_sf_test] = 1\n",
    "    type_arr_test[ind_comp_test] = 2\n",
    "    type_arr_test[ind_AGN_test] = 3\n",
    "    type_arr_test[ind_liner_test] = 4\n",
    "\n",
    "    return features_train, type_arr_train, features_test, type_arr_test\n",
    "\n",
    "features_train, type_arr_train, features_test, type_arr_test = load_and_preprocess_data('data_matched_step2_newz_sm.csv')\n"
   ]
  },
  {
   "cell_type": "code",
   "execution_count": null,
   "id": "8dce01d1",
   "metadata": {},
   "outputs": [],
   "source": [
    "from sklearn.model_selection import train_test_split\n",
    "\n",
    "# features array and target vectors (y)\n",
    "X_train = np.column_stack([features_train['O2_index'], features_train['O3_index'], features_train['sigma_o3'],\n",
    "                           features_train['sigma_star'], features_train['u_g'], features_train['g_r'], \n",
    "                           features_train['r_i'], features_train['i_z']])\n",
    "\n",
    "X_test = np.column_stack([features_test['O2_index'], features_test['O3_index'], features_test['sigma_o3'],\n",
    "                          features_test['sigma_star'], features_test['u_g'], features_test['g_r'],\n",
    "                          features_test['r_i'], features_test['i_z']])\n",
    "\n",
    "y_train = to_categorical(type_arr_train - 1, num_classes=4)\n",
    "y_test = to_categorical(type_arr_test - 1, num_classes=4)\n",
    "\n",
    "X_train_split, X_val_split, y_train_split, y_val_split = train_test_split(X_train, y_train, test_size=0.2, random_state=42)\n",
    "\n",
    "model = Sequential()\n",
    "model.add(Dense(64,input_shape=(X_train_split.shape[1],), activation='relu'))\n",
    "model.add(Dense(64, name=\"fc2\"))\n",
    "model.add(Activation(activation=\"relu\"))\n",
    "model.add(Dense(32, name=\"fc3\"))\n",
    "model.add(Activation(activation=\"relu\"))\n",
    "model.add(Dense(32, activation='relu'))\n",
    "model.add(Dense(4, activation='softmax'))\n",
    "\n",
    "model.compile(optimizer=Adam(), loss='categorical_crossentropy', metrics=['accuracy'])\n",
    "\n",
    "model.summary(show_trainable=True)"
   ]
  },
  {
   "cell_type": "code",
   "execution_count": null,
   "id": "d0875c60",
   "metadata": {},
   "outputs": [],
   "source": [
    "model_history = model.fit(X_train_split, y_train_split, epochs=5, batch_size=32,verbose=1,shuffle=True, validation_data=(X_val_split, y_val_split))\n",
    "pred = model.predict(X_test,verbose=0)"
   ]
  },
  {
   "cell_type": "code",
   "execution_count": null,
   "id": "9686062e",
   "metadata": {},
   "outputs": [],
   "source": [
    "from plotting import plot_model_history\n",
    "\n",
    "plot_model_history(model_history)"
   ]
  },
  {
   "cell_type": "code",
   "execution_count": null,
   "id": "178c61b2",
   "metadata": {},
   "outputs": [],
   "source": [
    "import matplotlib.pyplot as plt\n",
    "from sklearn.metrics import roc_curve, auc\n",
    "\n",
    "y_pred_prob = pred\n",
    "\n",
    "fpr = {}\n",
    "tpr = {}\n",
    "roc_auc = {}\n",
    "\n",
    "for i in range(4):\n",
    "    fpr[i], tpr[i], _ = roc_curve(y_test[:, i], y_pred_prob[:, i])\n",
    "    roc_auc[i] = auc(fpr[i], tpr[i])\n",
    "\n",
    "plt.figure()\n",
    "\n",
    "for i in range(4):\n",
    "    plt.plot(fpr[i], tpr[i], lw=2, label=f'Class {i+1} (area = {roc_auc[i]:.2f})')\n",
    "\n",
    "plt.plot([0, 1], [0, 1], color='gray', lw=2, linestyle='--')\n",
    "\n",
    "plt.xlim([0.0, 1.0])\n",
    "plt.ylim([0.0, 1.05])\n",
    "plt.xlabel('False Positive Rate')\n",
    "plt.ylabel('True Positive Rate')\n",
    "plt.title('ROC Curve')\n",
    "\n",
    "plt.legend(loc='lower right')\n",
    "plt.show()\n"
   ]
  },
  {
   "cell_type": "code",
   "execution_count": null,
   "id": "61ab0b91",
   "metadata": {},
   "outputs": [],
   "source": []
  }
 ],
 "metadata": {
  "@webio": {
   "lastCommId": null,
   "lastKernelId": null
  },
  "kernelspec": {
   "display_name": "Anaconda3 - 2023.03 (sl7)",
   "language": "python",
   "name": "python3-2023.03-sl7"
  },
  "language_info": {
   "codemirror_mode": {
    "name": "ipython",
    "version": 3
   },
   "file_extension": ".py",
   "mimetype": "text/x-python",
   "name": "python",
   "nbconvert_exporter": "python",
   "pygments_lexer": "ipython3",
   "version": "3.10.13"
  }
 },
 "nbformat": 4,
 "nbformat_minor": 5
}
